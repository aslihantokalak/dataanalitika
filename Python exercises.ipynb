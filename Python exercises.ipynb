{
 "cells": [
  {
   "cell_type": "markdown",
   "id": "fe445204",
   "metadata": {},
   "source": [
    "<!DOCTYPE html>\n",
    "<html>\n",
    "<body>\n",
    "\n",
    "<div align=\"center\">\n",
    "<h3>Prepared by Shaig E.Kazimov</h3>\n",
    "    \n",
    "<h1>Python exercises</h1>\n",
    "\n",
    "<h3>Follow Me on - <a href=\"https://www.linkedin.com/in/shaig-kazimov/\">LinkedIn</a>&nbsp;\n",
    "\n",
    "</div>\n",
    "</body>\n",
    "</html>"
   ]
  },
  {
   "cell_type": "markdown",
   "id": "0bcf3469",
   "metadata": {},
   "source": [
    "# Variables"
   ]
  },
  {
   "cell_type": "markdown",
   "id": "430d2f75",
   "metadata": {},
   "source": [
    "Create a variable with name \"x\" and a value of 10. Execute."
   ]
  },
  {
   "cell_type": "code",
   "execution_count": null,
   "id": "05a8ca32",
   "metadata": {},
   "outputs": [],
   "source": [
    "x = 10"
   ]
  },
  {
   "cell_type": "markdown",
   "id": "e2938e35",
   "metadata": {},
   "source": [
    "Tell the computer to show you the value of that variable."
   ]
  },
  {
   "cell_type": "code",
   "execution_count": 2,
   "id": "c80dc407",
   "metadata": {},
   "outputs": [
    {
     "name": "stdout",
     "output_type": "stream",
     "text": [
      "10\n"
     ]
    }
   ],
   "source": [
    "x=10\n",
    "print(x)"
   ]
  },
  {
   "cell_type": "markdown",
   "id": "1688fe64",
   "metadata": {},
   "source": [
    "Can you think of a second way to obtain the same result?"
   ]
  },
  {
   "cell_type": "code",
   "execution_count": 3,
   "id": "36570b2c",
   "metadata": {},
   "outputs": [
    {
     "data": {
      "text/plain": [
       "10"
      ]
     },
     "execution_count": 3,
     "metadata": {},
     "output_type": "execute_result"
    }
   ],
   "source": [
    "x"
   ]
  },
  {
   "cell_type": "markdown",
   "id": "210e710f",
   "metadata": {},
   "source": [
    "On the same line, create four new variables: a,b,c, and d, that are equal to 10, 20, 30, and 40, respectively."
   ]
  },
  {
   "cell_type": "code",
   "execution_count": 7,
   "id": "a2276dc3",
   "metadata": {},
   "outputs": [
    {
     "data": {
      "text/plain": [
       "<function print(*args, sep=' ', end='\\n', file=None, flush=False)>"
      ]
     },
     "execution_count": 7,
     "metadata": {},
     "output_type": "execute_result"
    }
   ],
   "source": [
    "a, b, c, d = 10, 20, 30, 40\n",
    "print"
   ]
  },
  {
   "cell_type": "markdown",
   "id": "63710f0c",
   "metadata": {},
   "source": [
    "Tell the computer to show you the value corresponding to the variable \"b\"."
   ]
  },
  {
   "cell_type": "code",
   "execution_count": 8,
   "id": "91ddfafe",
   "metadata": {},
   "outputs": [
    {
     "name": "stdout",
     "output_type": "stream",
     "text": [
      "20\n"
     ]
    }
   ],
   "source": [
    "print(b)"
   ]
  },
  {
   "cell_type": "markdown",
   "id": "ff0e6e64",
   "metadata": {},
   "source": [
    "Do the same for \"d\"."
   ]
  },
  {
   "cell_type": "code",
   "execution_count": 9,
   "id": "887f0a07",
   "metadata": {},
   "outputs": [
    {
     "name": "stdout",
     "output_type": "stream",
     "text": [
      "40\n"
     ]
    }
   ],
   "source": [
    "print(d)"
   ]
  },
  {
   "cell_type": "markdown",
   "id": "6556693d",
   "metadata": {},
   "source": [
    "_________________________________"
   ]
  },
  {
   "cell_type": "markdown",
   "id": "814b915c",
   "metadata": {},
   "source": [
    "# Numbers and Boolean Values"
   ]
  },
  {
   "cell_type": "markdown",
   "id": "87651b78",
   "metadata": {},
   "source": [
    "Create a variable equal to \"True\"."
   ]
  },
  {
   "cell_type": "code",
   "execution_count": 10,
   "id": "37a3ea1d",
   "metadata": {},
   "outputs": [
    {
     "name": "stdout",
     "output_type": "stream",
     "text": [
      "True\n"
     ]
    }
   ],
   "source": [
    "a=True\n",
    "print(a)"
   ]
  },
  {
   "cell_type": "markdown",
   "id": "d744fb3b",
   "metadata": {},
   "source": [
    "Check its type."
   ]
  },
  {
   "cell_type": "code",
   "execution_count": 11,
   "id": "ad93daa4",
   "metadata": {},
   "outputs": [
    {
     "name": "stdout",
     "output_type": "stream",
     "text": [
      "<class 'bool'>\n"
     ]
    }
   ],
   "source": [
    "x=True\n",
    "print(type(x))"
   ]
  },
  {
   "cell_type": "markdown",
   "id": "b4a3e574",
   "metadata": {},
   "source": [
    "Create a variable equal to 99."
   ]
  },
  {
   "cell_type": "code",
   "execution_count": null,
   "id": "2f85a345",
   "metadata": {},
   "outputs": [],
   "source": [
    "y=99\n"
   ]
  },
  {
   "cell_type": "markdown",
   "id": "b7bef0f9",
   "metadata": {},
   "source": [
    "Check its type."
   ]
  },
  {
   "cell_type": "code",
   "execution_count": 12,
   "id": "4d36c47c",
   "metadata": {},
   "outputs": [
    {
     "name": "stdout",
     "output_type": "stream",
     "text": [
      "<class 'type'>\n"
     ]
    }
   ],
   "source": [
    "print(type)"
   ]
  },
  {
   "cell_type": "markdown",
   "id": "51b63c46",
   "metadata": {},
   "source": [
    "Check the type of the value 0.99."
   ]
  },
  {
   "cell_type": "code",
   "execution_count": 13,
   "id": "5b02e6f9",
   "metadata": {},
   "outputs": [
    {
     "name": "stdout",
     "output_type": "stream",
     "text": [
      "<class 'float'>\n"
     ]
    }
   ],
   "source": [
    "z=0.99\n",
    "print(type(z))  "
   ]
  },
  {
   "cell_type": "markdown",
   "id": "8004df06",
   "metadata": {},
   "source": [
    "Turn 99 into a float."
   ]
  },
  {
   "cell_type": "code",
   "execution_count": 15,
   "id": "02f9a47d",
   "metadata": {},
   "outputs": [
    {
     "name": "stdout",
     "output_type": "stream",
     "text": [
      "99.0\n",
      "<class 'float'>\n"
     ]
    }
   ],
   "source": [
    "y=99\n",
    "x=float(y)\n",
    "print(x)\n",
    "print(type(x))"
   ]
  },
  {
   "cell_type": "markdown",
   "id": "bbca0757",
   "metadata": {},
   "source": [
    "Turn 0.99 into an integer. What value did you get?"
   ]
  },
  {
   "cell_type": "code",
   "execution_count": 16,
   "id": "3ac79600",
   "metadata": {},
   "outputs": [
    {
     "name": "stdout",
     "output_type": "stream",
     "text": [
      "0\n",
      "<class 'int'>\n"
     ]
    }
   ],
   "source": [
    "z=0.99\n",
    "x=int(z)\n",
    "print(x)\n",
    "print(type(x))"
   ]
  },
  {
   "cell_type": "markdown",
   "id": "4e99bf1a",
   "metadata": {},
   "source": [
    "_________________________________"
   ]
  },
  {
   "cell_type": "markdown",
   "id": "3655f170",
   "metadata": {},
   "source": [
    "# Strings"
   ]
  },
  {
   "cell_type": "markdown",
   "id": "a16dec8d",
   "metadata": {},
   "source": [
    "Assign the value of 100 to the variable \"m\"."
   ]
  },
  {
   "cell_type": "code",
   "execution_count": 23,
   "id": "78790fec",
   "metadata": {},
   "outputs": [
    {
     "name": "stdout",
     "output_type": "stream",
     "text": [
      "100 days\n"
     ]
    }
   ],
   "source": [
    "m=\"100\"\n",
    "print(m + \" days\")"
   ]
  },
  {
   "cell_type": "markdown",
   "id": "4a00edd2",
   "metadata": {},
   "source": [
    "With the help of the variable \"m\", write one line of code where the output after executuion would be 100 days.\n",
    "\n",
    "Hint: You could provide four answers to this question!"
   ]
  },
  {
   "cell_type": "code",
   "execution_count": 24,
   "id": "abc12e16",
   "metadata": {},
   "outputs": [
    {
     "name": "stdout",
     "output_type": "stream",
     "text": [
      "100 days\n"
     ]
    }
   ],
   "source": [
    "m=\"100\"\n",
    "print(f\"{m} days\")"
   ]
  },
  {
   "cell_type": "code",
   "execution_count": 25,
   "id": "33631055",
   "metadata": {},
   "outputs": [
    {
     "name": "stdout",
     "output_type": "stream",
     "text": [
      "100 days\n"
     ]
    }
   ],
   "source": [
    "m = \"100\"\n",
    "print(\"{} days\".format(m))\n"
   ]
  },
  {
   "cell_type": "code",
   "execution_count": 26,
   "id": "de5e10b9",
   "metadata": {},
   "outputs": [
    {
     "name": "stdout",
     "output_type": "stream",
     "text": [
      "100 days\n"
     ]
    }
   ],
   "source": [
    "m = \"100\"\n",
    "print(\"%s days\" % m)\n"
   ]
  },
  {
   "cell_type": "markdown",
   "id": "b3042dc2",
   "metadata": {},
   "source": [
    "Produce an output equal to It's cool, isn't it?"
   ]
  },
  {
   "cell_type": "code",
   "execution_count": 31,
   "id": "1c105e58",
   "metadata": {},
   "outputs": [
    {
     "name": "stdout",
     "output_type": "stream",
     "text": [
      "Its cool, isn't it?\n"
     ]
    }
   ],
   "source": [
    "print(\"Its cool, isn't it?\")"
   ]
  },
  {
   "cell_type": "markdown",
   "id": "23672db2",
   "metadata": {},
   "source": [
    "Fix the string below."
   ]
  },
  {
   "cell_type": "code",
   "execution_count": 27,
   "id": "e1e31fcd",
   "metadata": {},
   "outputs": [
    {
     "name": "stdout",
     "output_type": "stream",
     "text": [
      "Don't be shy\n"
     ]
    }
   ],
   "source": [
    "x=\"Don't be shy\"\n",
    "print(x)"
   ]
  },
  {
   "cell_type": "markdown",
   "id": "9f391ea8",
   "metadata": {},
   "source": [
    "Produce an output equal to Click \"OK\"."
   ]
  },
  {
   "cell_type": "code",
   "execution_count": 29,
   "id": "7a6e2b71",
   "metadata": {},
   "outputs": [
    {
     "name": "stdout",
     "output_type": "stream",
     "text": [
      "Click \"OK\"\n"
     ]
    }
   ],
   "source": [
    "print('Click \"OK\"')"
   ]
  },
  {
   "cell_type": "markdown",
   "id": "0371f15a",
   "metadata": {},
   "source": [
    "Include a plus sign in your line of code to produce 'Big Houses'."
   ]
  },
  {
   "cell_type": "code",
   "execution_count": 32,
   "id": "b253cc28",
   "metadata": {},
   "outputs": [
    {
     "name": "stdout",
     "output_type": "stream",
     "text": [
      "BigHouses\n"
     ]
    }
   ],
   "source": [
    "print(\"Big\" + \"Houses\")"
   ]
  },
  {
   "cell_type": "markdown",
   "id": "e707415d",
   "metadata": {},
   "source": [
    "Include a trailing comma in your line of code to produce Big Houses."
   ]
  },
  {
   "cell_type": "code",
   "execution_count": 33,
   "id": "ecb226be",
   "metadata": {},
   "outputs": [
    {
     "name": "stdout",
     "output_type": "stream",
     "text": [
      "Big Houses\n"
     ]
    }
   ],
   "source": [
    "print(\"Big\", \"Houses\")"
   ]
  },
  {
   "cell_type": "markdown",
   "id": "163b165c",
   "metadata": {},
   "source": [
    "__________________"
   ]
  },
  {
   "cell_type": "markdown",
   "id": "7b8d8c7c",
   "metadata": {},
   "source": [
    "# Arithmetic operators"
   ]
  },
  {
   "cell_type": "markdown",
   "id": "b5a9eeec",
   "metadata": {},
   "source": [
    "Combine 15 and 23."
   ]
  },
  {
   "cell_type": "code",
   "execution_count": 34,
   "id": "6ed30189",
   "metadata": {},
   "outputs": [
    {
     "name": "stdout",
     "output_type": "stream",
     "text": [
      "38\n"
     ]
    }
   ],
   "source": [
    "a=15\n",
    "b=23\n",
    "print(a+b)"
   ]
  },
  {
   "cell_type": "markdown",
   "id": "c61aaadc",
   "metadata": {},
   "source": [
    "Subtract 50 from 26."
   ]
  },
  {
   "cell_type": "code",
   "execution_count": 35,
   "id": "adfa0673",
   "metadata": {},
   "outputs": [
    {
     "name": "stdout",
     "output_type": "stream",
     "text": [
      "24\n"
     ]
    }
   ],
   "source": [
    "x=50\n",
    "y=26\n",
    "print(x-y)"
   ]
  },
  {
   "cell_type": "markdown",
   "id": "69b13263",
   "metadata": {},
   "source": [
    "Divide 20 by 4."
   ]
  },
  {
   "cell_type": "code",
   "execution_count": 36,
   "id": "c3408562",
   "metadata": {},
   "outputs": [
    {
     "name": "stdout",
     "output_type": "stream",
     "text": [
      "5.0\n"
     ]
    }
   ],
   "source": [
    "a=20\n",
    "b=4\n",
    "print(a/b)"
   ]
  },
  {
   "cell_type": "markdown",
   "id": "f4ef07dc",
   "metadata": {},
   "source": [
    "Divide 22 by 4."
   ]
  },
  {
   "cell_type": "code",
   "execution_count": 37,
   "id": "708fbe10",
   "metadata": {},
   "outputs": [
    {
     "name": "stdout",
     "output_type": "stream",
     "text": [
      "5.5\n"
     ]
    }
   ],
   "source": [
    "x=22\n",
    "y=4\n",
    "print(x/y)"
   ]
  },
  {
   "cell_type": "markdown",
   "id": "52a50906",
   "metadata": {},
   "source": [
    "Obtain the remainder of the division of 22 by 4."
   ]
  },
  {
   "cell_type": "code",
   "execution_count": 38,
   "id": "d7cd687d",
   "metadata": {},
   "outputs": [
    {
     "name": "stdout",
     "output_type": "stream",
     "text": [
      "2\n"
     ]
    }
   ],
   "source": [
    "a=22\n",
    "b=4\n",
    "result=a%b\n",
    "print(result)"
   ]
  },
  {
   "cell_type": "markdown",
   "id": "7cc9242e",
   "metadata": {},
   "source": [
    "Divide the float 22 by 4."
   ]
  },
  {
   "cell_type": "code",
   "execution_count": 40,
   "id": "6313af3c",
   "metadata": {},
   "outputs": [
    {
     "name": "stdout",
     "output_type": "stream",
     "text": [
      "5.5\n"
     ]
    }
   ],
   "source": [
    "a=22.0\n",
    "b=4\n",
    "result=a/b\n",
    "print(result)"
   ]
  },
  {
   "cell_type": "markdown",
   "id": "b36e00a4",
   "metadata": {},
   "source": [
    "Multiply 6 by 8."
   ]
  },
  {
   "cell_type": "code",
   "execution_count": 41,
   "id": "d0d7dea3",
   "metadata": {},
   "outputs": [
    {
     "name": "stdout",
     "output_type": "stream",
     "text": [
      "48\n"
     ]
    }
   ],
   "source": [
    "a=6\n",
    "b=8\n",
    "result=a*b\n",
    "print(result)   "
   ]
  },
  {
   "cell_type": "markdown",
   "id": "8bce6fc2",
   "metadata": {},
   "source": [
    "Raise 15 to the power of 2."
   ]
  },
  {
   "cell_type": "code",
   "execution_count": 42,
   "id": "2543e0f1",
   "metadata": {},
   "outputs": [
    {
     "name": "stdout",
     "output_type": "stream",
     "text": [
      "225\n"
     ]
    }
   ],
   "source": [
    "a=15\n",
    "b=15**2\n",
    "print(b)"
   ]
  },
  {
   "cell_type": "markdown",
   "id": "f6ab5a8d",
   "metadata": {},
   "source": [
    "_____________________"
   ]
  },
  {
   "cell_type": "markdown",
   "id": "fb664be8",
   "metadata": {},
   "source": [
    "# The double-equality sign"
   ]
  },
  {
   "cell_type": "markdown",
   "id": "78833491",
   "metadata": {},
   "source": [
    "Demonstrate that 100 is not equal to 98."
   ]
  },
  {
   "cell_type": "code",
   "execution_count": 43,
   "id": "5cc9a068",
   "metadata": {},
   "outputs": [
    {
     "name": "stdout",
     "output_type": "stream",
     "text": [
      "True\n"
     ]
    }
   ],
   "source": [
    "a=100\n",
    "b=98\n",
    "print(a!=b)"
   ]
  },
  {
   "cell_type": "markdown",
   "id": "ed02544d",
   "metadata": {},
   "source": [
    "__________________________"
   ]
  },
  {
   "cell_type": "markdown",
   "id": "6488e2d5",
   "metadata": {},
   "source": [
    "# Reassign Values"
   ]
  },
  {
   "cell_type": "markdown",
   "id": "e4eb6c62",
   "metadata": {},
   "source": [
    "Assign the value of 14 to a variable p."
   ]
  },
  {
   "cell_type": "code",
   "execution_count": 44,
   "id": "733270b9",
   "metadata": {},
   "outputs": [
    {
     "name": "stdout",
     "output_type": "stream",
     "text": [
      "True\n"
     ]
    }
   ],
   "source": [
    "a=14\n",
    "p=14\n",
    "print(a==p) "
   ]
  },
  {
   "cell_type": "markdown",
   "id": "24e45a5d",
   "metadata": {},
   "source": [
    "Calculate p + 10."
   ]
  },
  {
   "cell_type": "code",
   "execution_count": null,
   "id": "8b199d74",
   "metadata": {},
   "outputs": [
    {
     "name": "stdout",
     "output_type": "stream",
     "text": [
      "24\n"
     ]
    }
   ],
   "source": [
    "def calculate_result(p):\n",
    "    result = (p + 10)\n",
    "    print(result)\n"
   ]
  },
  {
   "cell_type": "markdown",
   "id": "3028e59b",
   "metadata": {},
   "source": [
    "Now, assign 30 to the variable p."
   ]
  },
  {
   "cell_type": "code",
   "execution_count": 163,
   "id": "8fbb2cf3",
   "metadata": {},
   "outputs": [],
   "source": [
    "def calculate_result(p):\n",
    "    result = (p + 10)\n"
   ]
  },
  {
   "cell_type": "markdown",
   "id": "b024bcf3",
   "metadata": {},
   "source": [
    "Calculate p + 10."
   ]
  },
  {
   "cell_type": "code",
   "execution_count": 164,
   "id": "caff1cdd",
   "metadata": {},
   "outputs": [
    {
     "name": "stdout",
     "output_type": "stream",
     "text": [
      "40\n"
     ]
    }
   ],
   "source": [
    "def calculate_result(p):\n",
    "    result = (p + 10)\n",
    "    print(result)\n",
    "calculate_result(30)\n"
   ]
  },
  {
   "cell_type": "markdown",
   "id": "9a8ab04c",
   "metadata": {},
   "source": [
    "Observe how the value of p is always the last one you have assigned."
   ]
  },
  {
   "cell_type": "code",
   "execution_count": null,
   "id": "3ebf8d8f",
   "metadata": {},
   "outputs": [],
   "source": [
    "the previous p value is always overwritten"
   ]
  },
  {
   "cell_type": "markdown",
   "id": "db8b9511",
   "metadata": {},
   "source": [
    "___________________"
   ]
  },
  {
   "cell_type": "markdown",
   "id": "df9cb488",
   "metadata": {},
   "source": [
    "# Indexing Elements"
   ]
  },
  {
   "cell_type": "markdown",
   "id": "12f815f9",
   "metadata": {},
   "source": [
    "Extract the letter 'B' from \"Bingo!\"."
   ]
  },
  {
   "cell_type": "code",
   "execution_count": 49,
   "id": "31c64433",
   "metadata": {},
   "outputs": [
    {
     "name": "stdout",
     "output_type": "stream",
     "text": [
      "B\n"
     ]
    }
   ],
   "source": [
    "word=\"Bingo\"\n",
    "letter=word[0]\n",
    "print(letter)"
   ]
  },
  {
   "cell_type": "markdown",
   "id": "653b6757",
   "metadata": {},
   "source": [
    "Extract the letter \"u\" from \"Constitution\"."
   ]
  },
  {
   "cell_type": "code",
   "execution_count": 50,
   "id": "17824e36",
   "metadata": {},
   "outputs": [
    {
     "name": "stdout",
     "output_type": "stream",
     "text": [
      "u\n"
     ]
    }
   ],
   "source": [
    "word=\"Constitution\"\n",
    "letter=word[7]\n",
    "print(letter)"
   ]
  },
  {
   "cell_type": "markdown",
   "id": "bb2a7afe",
   "metadata": {},
   "source": [
    "________________"
   ]
  },
  {
   "cell_type": "markdown",
   "id": "4a27bdf9",
   "metadata": {},
   "source": [
    "# Structure Your Code with Indentation"
   ]
  },
  {
   "cell_type": "markdown",
   "id": "434d3ebd",
   "metadata": {},
   "source": [
    "Use indentation properly to print the result of the function with an argument of 3."
   ]
  },
  {
   "cell_type": "code",
   "execution_count": 52,
   "id": "a0576a4a",
   "metadata": {},
   "outputs": [
    {
     "name": "stdout",
     "output_type": "stream",
     "text": [
      "13\n"
     ]
    }
   ],
   "source": [
    "def ten(x):\n",
    "    x += 10\n",
    "    return x\n",
    "print(ten(3))"
   ]
  },
  {
   "cell_type": "markdown",
   "id": "d70c50fa",
   "metadata": {},
   "source": [
    "___________________"
   ]
  },
  {
   "cell_type": "markdown",
   "id": "7fb2a5cf",
   "metadata": {},
   "source": [
    "# Comparison Operators"
   ]
  },
  {
   "cell_type": "markdown",
   "id": "12e72a29",
   "metadata": {},
   "source": [
    "Verify that 25 is smaller than 30."
   ]
  },
  {
   "cell_type": "code",
   "execution_count": 54,
   "id": "10412545",
   "metadata": {},
   "outputs": [
    {
     "name": "stdout",
     "output_type": "stream",
     "text": [
      "True\n"
     ]
    }
   ],
   "source": [
    "a=25\n",
    "b=30\n",
    "result=a<b\n",
    "print(result)"
   ]
  },
  {
   "cell_type": "markdown",
   "id": "337df2ba",
   "metadata": {},
   "source": [
    "Verify that 5 multiplied by 3 is less than or equal to 5 to the power of 3."
   ]
  },
  {
   "cell_type": "code",
   "execution_count": 56,
   "id": "b7f89632",
   "metadata": {},
   "outputs": [
    {
     "name": "stdout",
     "output_type": "stream",
     "text": [
      "True\n"
     ]
    }
   ],
   "source": [
    "a=5\n",
    "b=3\n",
    "result=5*3\n",
    "result2=5*5*5\n",
    "result3=result2>result\n",
    "print(result3)\n"
   ]
  },
  {
   "cell_type": "markdown",
   "id": "065cdca6",
   "metadata": {},
   "source": [
    "Verify that 100 is equal to 10 square."
   ]
  },
  {
   "cell_type": "code",
   "execution_count": 58,
   "id": "2888ef73",
   "metadata": {},
   "outputs": [
    {
     "name": "stdout",
     "output_type": "stream",
     "text": [
      "True\n"
     ]
    }
   ],
   "source": [
    "print(100 == 10**2)\n"
   ]
  },
  {
   "cell_type": "code",
   "execution_count": null,
   "id": "0393bc26",
   "metadata": {},
   "outputs": [
    {
     "name": "stdout",
     "output_type": "stream",
     "text": [
      "10000000000\n"
     ]
    }
   ],
   "source": [
    "a=10\n",
    "b=10*10*10*10*10*10*10*10*10*10\n",
    "result=a==b\n",
    "print(result)"
   ]
  },
  {
   "cell_type": "markdown",
   "id": "2c2faf2c",
   "metadata": {},
   "source": [
    "Verify that 53 is not equal to 46."
   ]
  },
  {
   "cell_type": "code",
   "execution_count": 59,
   "id": "dbcdb726",
   "metadata": {},
   "outputs": [
    {
     "name": "stdout",
     "output_type": "stream",
     "text": [
      "True\n"
     ]
    }
   ],
   "source": [
    "a=53\n",
    "b=46\n",
    "result=a!=b\n",
    "print(result)"
   ]
  },
  {
   "cell_type": "markdown",
   "id": "7d7c6a3c",
   "metadata": {},
   "source": [
    "___________________"
   ]
  },
  {
   "cell_type": "markdown",
   "id": "f0f1ca32",
   "metadata": {},
   "source": [
    "# Logical and Identity Operators "
   ]
  },
  {
   "cell_type": "markdown",
   "id": "07d47922",
   "metadata": {},
   "source": [
    "Suggested Answers follow (usually there are multiple ways to solve a problem in Python)."
   ]
  },
  {
   "cell_type": "markdown",
   "id": "3679c46a",
   "metadata": {},
   "source": [
    "Check whether the following code is True or False."
   ]
  },
  {
   "cell_type": "markdown",
   "id": "463bde9a",
   "metadata": {},
   "source": [
    "False or not True and not False"
   ]
  },
  {
   "cell_type": "code",
   "execution_count": 60,
   "id": "3dfbc0d6",
   "metadata": {},
   "outputs": [
    {
     "name": "stdout",
     "output_type": "stream",
     "text": [
      "False\n"
     ]
    }
   ],
   "source": [
    "logic = False or not True and not False\n",
    "print(logic)\n"
   ]
  },
  {
   "cell_type": "markdown",
   "id": "e38ecc39",
   "metadata": {},
   "source": [
    "True and not False and True or not False"
   ]
  },
  {
   "cell_type": "code",
   "execution_count": 61,
   "id": "f68c436b",
   "metadata": {},
   "outputs": [
    {
     "name": "stdout",
     "output_type": "stream",
     "text": [
      "True\n"
     ]
    }
   ],
   "source": [
    "logic= True and not False and True or not False \n",
    "print(logic)"
   ]
  },
  {
   "cell_type": "markdown",
   "id": "bb9de49a",
   "metadata": {},
   "source": [
    "True or False and False"
   ]
  },
  {
   "cell_type": "code",
   "execution_count": 62,
   "id": "03d5d224",
   "metadata": {},
   "outputs": [
    {
     "name": "stdout",
     "output_type": "stream",
     "text": [
      "True\n"
     ]
    }
   ],
   "source": [
    "logic= True or False and False \n",
    "print(logic)"
   ]
  },
  {
   "cell_type": "markdown",
   "id": "0509ddda",
   "metadata": {},
   "source": [
    "False and True or False"
   ]
  },
  {
   "cell_type": "code",
   "execution_count": 63,
   "id": "a389be66",
   "metadata": {},
   "outputs": [
    {
     "name": "stdout",
     "output_type": "stream",
     "text": [
      "False\n"
     ]
    }
   ],
   "source": [
    "logic= False and True or False\n",
    "print(logic)"
   ]
  },
  {
   "cell_type": "markdown",
   "id": "4cc41afa",
   "metadata": {},
   "source": [
    "Using an identity operator, verify that 10 is not the same as 12."
   ]
  },
  {
   "cell_type": "code",
   "execution_count": 64,
   "id": "1b5a51f4",
   "metadata": {},
   "outputs": [
    {
     "name": "stdout",
     "output_type": "stream",
     "text": [
      "True\n"
     ]
    }
   ],
   "source": [
    "a=10\n",
    "b=27\n",
    "print(a is not b)\n"
   ]
  },
  {
   "cell_type": "markdown",
   "id": "f655a866",
   "metadata": {},
   "source": [
    "Using an identity operator, verify that 50 is the same as 50."
   ]
  },
  {
   "cell_type": "code",
   "execution_count": 65,
   "id": "cf033c3c",
   "metadata": {},
   "outputs": [
    {
     "name": "stdout",
     "output_type": "stream",
     "text": [
      "True\n"
     ]
    }
   ],
   "source": [
    "a=50\n",
    "b=50\n",
    "print(a is b)"
   ]
  },
  {
   "cell_type": "markdown",
   "id": "fd693e39",
   "metadata": {},
   "source": [
    "____________________"
   ]
  },
  {
   "cell_type": "markdown",
   "id": "2280f3ae",
   "metadata": {},
   "source": [
    "# Introduction to the IF statement"
   ]
  },
  {
   "cell_type": "markdown",
   "id": "30556b56",
   "metadata": {},
   "source": [
    "Suggested Answers follow (usually there are multiple ways to solve a problem in Python)."
   ]
  },
  {
   "cell_type": "markdown",
   "id": "8ebf0581",
   "metadata": {},
   "source": [
    "Create a two-line code that prints \"The condition has been satisfied\" if 5 is greater than 2."
   ]
  },
  {
   "cell_type": "code",
   "execution_count": 70,
   "id": "7be8d792",
   "metadata": {},
   "outputs": [
    {
     "name": "stdout",
     "output_type": "stream",
     "text": [
      "The condition has been satisfied\n"
     ]
    }
   ],
   "source": [
    "if 5>2:\n",
    "    print(\"The condition has been satisfied\")\n"
   ]
  },
  {
   "cell_type": "markdown",
   "id": "59f36ad4",
   "metadata": {},
   "source": [
    "Assign 10 to the variable x and 25 to the variable y. In the same cell, create 2 conditional statements. Let the first one print \"Both conditions are correct\" if x is greater then 3 and y is greater than 13. Let the second one print \"At least one of the conditions is false\" if x is less than or equal to 3 and y is less than or equal to 13. Change the values assigned to x and y and re-run the cell to verify your code still works."
   ]
  },
  {
   "cell_type": "code",
   "execution_count": 71,
   "id": "305a8c63",
   "metadata": {},
   "outputs": [
    {
     "name": "stdout",
     "output_type": "stream",
     "text": [
      "Both conditions are correct\n"
     ]
    }
   ],
   "source": [
    "x=10\n",
    "y=25\n",
    "if x>3 and y>13:\n",
    "    print(\"Both conditions are correct\")\n",
    "    if x<=3 and y<=13:\n",
    "        print(\"At least one of the conditions is false\")"
   ]
  },
  {
   "cell_type": "markdown",
   "id": "7daa6d0c",
   "metadata": {},
   "source": [
    "____________________________"
   ]
  },
  {
   "cell_type": "markdown",
   "id": "dcea54a5",
   "metadata": {},
   "source": [
    "# Add an ELSE Statement"
   ]
  },
  {
   "cell_type": "markdown",
   "id": "6809a5f2",
   "metadata": {},
   "source": [
    "Let x represent the number of orders received during a certain day. Assign 102 to x. Create a program that prints \"A busy day\" if x is greater than 100, and \"A calm day\" otherwise. Change x to 97 to verify your code works properly."
   ]
  },
  {
   "cell_type": "code",
   "execution_count": 74,
   "id": "4cc18762",
   "metadata": {},
   "outputs": [
    {
     "name": "stdout",
     "output_type": "stream",
     "text": [
      "A calm day\n"
     ]
    }
   ],
   "source": [
    "x=97\n",
    "if x>100:\n",
    "    print(\"A busy day\")\n",
    "else :\n",
    "    print(\"A calm day\")"
   ]
  },
  {
   "cell_type": "markdown",
   "id": "52b946fc",
   "metadata": {},
   "source": [
    "_________________"
   ]
  },
  {
   "cell_type": "markdown",
   "id": "203c7dbd",
   "metadata": {},
   "source": [
    "# Else if, for Brief - ELIF"
   ]
  },
  {
   "cell_type": "markdown",
   "id": "b10be488",
   "metadata": {},
   "source": [
    "Assign 200 to x. Create the following piece of code: If x > 200, print out \"Big\"; If x > 100 and x <= 200, print out \"Average\"; and If x <= 100, print out \"Small\". Use the If, Elif, and Else keywords in your code."
   ]
  },
  {
   "cell_type": "code",
   "execution_count": 76,
   "id": "68ca9cee",
   "metadata": {},
   "outputs": [
    {
     "name": "stdout",
     "output_type": "stream",
     "text": [
      "Average\n"
     ]
    }
   ],
   "source": [
    "x=200\n",
    "if x>200:\n",
    "    print(\"Big\")\n",
    "elif x>100 and x<=200:\n",
    "    print(\"Average\")\n",
    "else:\n",
    "    print(\"Small\")\n"
   ]
  },
  {
   "cell_type": "markdown",
   "id": "2af8f85d",
   "metadata": {},
   "source": [
    "Change the initial value of x to see how your output will vary."
   ]
  },
  {
   "cell_type": "code",
   "execution_count": 82,
   "id": "6a2b64c6",
   "metadata": {},
   "outputs": [
    {
     "name": "stdout",
     "output_type": "stream",
     "text": [
      "Average\n"
     ]
    }
   ],
   "source": [
    "x = 100\n",
    "if x > 100:\n",
    "    print(\"Big\")\n",
    "elif x > 50 and x <= 100:\n",
    "    print(\"Average\")\n",
    "else:\n",
    "    print(\"Small\")"
   ]
  },
  {
   "cell_type": "markdown",
   "id": "ad8ff011",
   "metadata": {},
   "source": [
    "Keep the first two conditions of the previous code. Add a new ELIF statement, so that, eventually, the program prints \"Small\" if x >= 0 and x <= 100, and \"Negative\" if x < 0. Let x carry the value of 50 and then of -50 to check if your code is correct."
   ]
  },
  {
   "cell_type": "code",
   "execution_count": 83,
   "id": "f6a2603b",
   "metadata": {},
   "outputs": [
    {
     "name": "stdout",
     "output_type": "stream",
     "text": [
      "Average\n"
     ]
    }
   ],
   "source": [
    "x = 200  \n",
    "\n",
    "if x > 200:\n",
    "    print(\"Big\")\n",
    "elif x > 100 and x <= 200:\n",
    "    print(\"Average\")\n",
    "elif x >= 0 and x <= 100:\n",
    "    print(\"Small\")\n",
    "else:\n",
    "    print(\"Negative\")"
   ]
  },
  {
   "cell_type": "markdown",
   "id": "16b5efda",
   "metadata": {},
   "source": [
    "_____________________"
   ]
  },
  {
   "cell_type": "markdown",
   "id": "2eacffa4",
   "metadata": {},
   "source": [
    "# Creating a Function with a Parameter"
   ]
  },
  {
   "cell_type": "markdown",
   "id": "787b5df0",
   "metadata": {},
   "source": [
    "Define a function that returns a value equal to its argument multiplied by 2."
   ]
  },
  {
   "cell_type": "code",
   "execution_count": 84,
   "id": "509b1ed1",
   "metadata": {},
   "outputs": [],
   "source": [
    "def ikikati(x):\n",
    "    return x * 2"
   ]
  },
  {
   "cell_type": "markdown",
   "id": "fa4c2ebe",
   "metadata": {},
   "source": [
    "Define a funciton that returns a float value equal to its argument divided by 2."
   ]
  },
  {
   "cell_type": "code",
   "execution_count": 86,
   "id": "0c3a8200",
   "metadata": {},
   "outputs": [],
   "source": [
    "def yari(x):\n",
    "    return x / 2\n"
   ]
  },
  {
   "cell_type": "markdown",
   "id": "c8ac8475",
   "metadata": {},
   "source": [
    "_________________"
   ]
  },
  {
   "cell_type": "markdown",
   "id": "1403d62b",
   "metadata": {},
   "source": [
    "# Another Way to Define a Function"
   ]
  },
  {
   "cell_type": "markdown",
   "id": "ff5996c8",
   "metadata": {},
   "source": [
    "Define a function that states the value of the argument accompanied by the phrase \"Raised to the power of 2:\" and returns a value equal to its argument raised to the power of 2. This time, use a new variable, called \"result\", in the body of the Function. Call the function with some argument to verify it works properly.\n",
    "\n",
    "Hint: Your knowledge about stating multiple elements on a line can be of great help in solving this exercise!"
   ]
  },
  {
   "cell_type": "code",
   "execution_count": 93,
   "id": "af8bf25d",
   "metadata": {},
   "outputs": [
    {
     "name": "stdout",
     "output_type": "stream",
     "text": [
      "5 Raised to the power of 2: 25\n"
     ]
    },
    {
     "data": {
      "text/plain": [
       "25"
      ]
     },
     "execution_count": 93,
     "metadata": {},
     "output_type": "execute_result"
    }
   ],
   "source": [
    "def powered(x):\n",
    "    result = x ** 2\n",
    "    print(x, \"Raised to the power of 2:\", result)\n",
    "    return result\n",
    "\n",
    "powered(5)"
   ]
  },
  {
   "cell_type": "markdown",
   "id": "15f0938c",
   "metadata": {},
   "source": [
    "_____________"
   ]
  },
  {
   "cell_type": "markdown",
   "id": "4ac67cc6",
   "metadata": {},
   "source": [
    "# Using a Function in Another Function"
   ]
  },
  {
   "cell_type": "markdown",
   "id": "0fc5b3c1",
   "metadata": {},
   "source": [
    "Define a function that adds 5 to the parameter. Then, define another function that will multiply the newly obtained number by 3. Verify your code was correct by calling the second function with an argument of 5. Was your output equal to 30?"
   ]
  },
  {
   "cell_type": "code",
   "execution_count": 94,
   "id": "0949959b",
   "metadata": {},
   "outputs": [
    {
     "name": "stdout",
     "output_type": "stream",
     "text": [
      "30\n"
     ]
    }
   ],
   "source": [
    "\n",
    "def besekle(x):\n",
    "    return x + 5\n",
    "\n",
    "def uclecarp(x):\n",
    "    return besekle(x) * 3\n",
    "result = uclecarp(5)\n",
    "print(result)\n"
   ]
  },
  {
   "cell_type": "markdown",
   "id": "57d7a180",
   "metadata": {},
   "source": [
    "____________________"
   ]
  },
  {
   "cell_type": "markdown",
   "id": "adb0a93f",
   "metadata": {},
   "source": [
    "# Combining Conditional Statements and Functions"
   ]
  },
  {
   "cell_type": "markdown",
   "id": "25adee19",
   "metadata": {},
   "source": [
    "Define a function, called compare_the_two(), with two arguments. If the first one is greater than the second one, let it print \"Greater\". If the second one is greater, it should print \"Less\". Let it print \"Equal\" if the two values are the same number."
   ]
  },
  {
   "cell_type": "code",
   "execution_count": 98,
   "id": "c725ecab",
   "metadata": {},
   "outputs": [],
   "source": [
    "def karsilastir(x, y):\n",
    "    if x > y:\n",
    "        print(\"x is greater than y\")\n",
    "    elif x < y:\n",
    "        print(\"x is less than y\")\n",
    "    else:\n",
    "        print(\"x is equal to y\")\n",
    "    x = 23\n",
    "    y = 48\n",
    "    karsilastir(x, y)   \n",
    "    print(karsilastir(23, 48))"
   ]
  },
  {
   "cell_type": "code",
   "execution_count": null,
   "id": "b1f197e2",
   "metadata": {},
   "outputs": [],
   "source": []
  },
  {
   "cell_type": "markdown",
   "id": "0e1ae04a",
   "metadata": {},
   "source": [
    "__________________"
   ]
  },
  {
   "cell_type": "markdown",
   "id": "780fcd26",
   "metadata": {},
   "source": [
    "# Notable Built-In Functions in Python"
   ]
  },
  {
   "cell_type": "markdown",
   "id": "50a6541b",
   "metadata": {},
   "source": [
    "Obtain the maximum number among the values 25, 65, 890, and 15."
   ]
  },
  {
   "cell_type": "code",
   "execution_count": 101,
   "id": "8a862266",
   "metadata": {},
   "outputs": [
    {
     "name": "stdout",
     "output_type": "stream",
     "text": [
      "890\n"
     ]
    }
   ],
   "source": [
    "numbers= [25,65,890,15]\n",
    "enbuyuk=max(numbers)\n",
    "print(enbuyuk)"
   ]
  },
  {
   "cell_type": "markdown",
   "id": "3f9b27aa",
   "metadata": {},
   "source": [
    "Obtain the minimum number among the values 25, 65, 890, and 15."
   ]
  },
  {
   "cell_type": "code",
   "execution_count": 102,
   "id": "a64e7ca0",
   "metadata": {},
   "outputs": [
    {
     "name": "stdout",
     "output_type": "stream",
     "text": [
      "15\n"
     ]
    }
   ],
   "source": [
    "numbers=[25,65,890,15]\n",
    "enkucuk=min(numbers)\n",
    "print(enkucuk)"
   ]
  },
  {
   "cell_type": "markdown",
   "id": "f1449a05",
   "metadata": {},
   "source": [
    "Find the absolute value of -100"
   ]
  },
  {
   "cell_type": "code",
   "execution_count": null,
   "id": "bb7715c9",
   "metadata": {},
   "outputs": [
    {
     "name": "stdout",
     "output_type": "stream",
     "text": [
      "100\n"
     ]
    }
   ],
   "source": [
    "deger= -100\n",
    "mutlak_deger=abs(deger)\n",
    "print(kesin_deger)"
   ]
  },
  {
   "cell_type": "markdown",
   "id": "2bf8876b",
   "metadata": {},
   "source": [
    "Round the value of 55.5. Did you obtain 56.0?"
   ]
  },
  {
   "cell_type": "code",
   "execution_count": 104,
   "id": "a6554750",
   "metadata": {},
   "outputs": [
    {
     "name": "stdout",
     "output_type": "stream",
     "text": [
      "56\n"
     ]
    }
   ],
   "source": [
    "deger=55.5\n",
    "yuvarlanan_deger=round(deger)\n",
    "print(yuvarlanan_deger)"
   ]
  },
  {
   "cell_type": "markdown",
   "id": "2a802f90",
   "metadata": {},
   "source": [
    "Round 35.56789 to the third digit."
   ]
  },
  {
   "cell_type": "code",
   "execution_count": 108,
   "id": "0946bec0",
   "metadata": {},
   "outputs": [
    {
     "name": "stdout",
     "output_type": "stream",
     "text": [
      "35.6\n"
     ]
    }
   ],
   "source": [
    "deger=35.56789\n",
    "yuvarlanan_deger=round(deger,1)\n",
    "print(yuvarlanan_deger) "
   ]
  },
  {
   "cell_type": "markdown",
   "id": "e788c2ef",
   "metadata": {},
   "source": [
    "Find the sum of all elements in the provided list, called \"Numbers\"."
   ]
  },
  {
   "cell_type": "code",
   "execution_count": null,
   "id": "8e6bff35",
   "metadata": {},
   "outputs": [],
   "source": [
    "Numbers = [1, 5, 64, 24.5]"
   ]
  },
  {
   "cell_type": "code",
   "execution_count": 109,
   "id": "54de7f28",
   "metadata": {},
   "outputs": [
    {
     "name": "stdout",
     "output_type": "stream",
     "text": [
      "94.5\n"
     ]
    }
   ],
   "source": [
    "sayılar=[1,5,64,24.5]\n",
    "sum(sayılar)\n",
    "print(sum(sayılar))"
   ]
  },
  {
   "cell_type": "markdown",
   "id": "6f74b82f",
   "metadata": {},
   "source": [
    "Use a built-in function to raise 10 to the power of 3."
   ]
  },
  {
   "cell_type": "code",
   "execution_count": 111,
   "id": "b788071e",
   "metadata": {},
   "outputs": [
    {
     "name": "stdout",
     "output_type": "stream",
     "text": [
      "1000\n"
     ]
    }
   ],
   "source": [
    "sonuc=pow(10,3)\n",
    "print(sonuc)"
   ]
  },
  {
   "cell_type": "markdown",
   "id": "cf32e677",
   "metadata": {},
   "source": [
    "How many characters are there in the word \"Elephant\"?"
   ]
  },
  {
   "cell_type": "code",
   "execution_count": 112,
   "id": "3dcf7665",
   "metadata": {},
   "outputs": [
    {
     "name": "stdout",
     "output_type": "stream",
     "text": [
      "8\n"
     ]
    }
   ],
   "source": [
    "kelimemiz=\"Elephant\"\n",
    "uzunluk=len(kelimemiz)\n",
    "print(uzunluk)"
   ]
  },
  {
   "cell_type": "markdown",
   "id": "1699846e",
   "metadata": {},
   "source": [
    "Create a function, called \"distance_from_zero\", that returns the absolute value of a provided single argument and prints a statement \"Not Possible\" if the argument provided is not a number. Call the funtion with the values of -10 and \"cat\" to verify it works correctly."
   ]
  },
  {
   "cell_type": "code",
   "execution_count": 113,
   "id": "fcf7a02c",
   "metadata": {},
   "outputs": [],
   "source": [
    "def distance_from_zero(x):\n",
    "    if isinstance(x, (int, float)): \n",
    "        return abs(x)\n",
    "    else:\n",
    "        print(\"Not Possible\")\n",
    "\n",
    "\n",
    "\n"
   ]
  },
  {
   "cell_type": "code",
   "execution_count": 114,
   "id": "fdf777c8",
   "metadata": {},
   "outputs": [
    {
     "name": "stdout",
     "output_type": "stream",
     "text": [
      "10\n"
     ]
    }
   ],
   "source": [
    "print(distance_from_zero(-10)) "
   ]
  },
  {
   "cell_type": "code",
   "execution_count": 115,
   "id": "d52bbb0f",
   "metadata": {},
   "outputs": [
    {
     "name": "stdout",
     "output_type": "stream",
     "text": [
      "Not Possible\n",
      "None\n"
     ]
    }
   ],
   "source": [
    "print(distance_from_zero(\"cat\")) "
   ]
  },
  {
   "cell_type": "markdown",
   "id": "6003e506",
   "metadata": {},
   "source": [
    "____________________"
   ]
  },
  {
   "cell_type": "markdown",
   "id": "68b61f27",
   "metadata": {},
   "source": [
    "# Lists"
   ]
  },
  {
   "cell_type": "markdown",
   "id": "2d21f2bc",
   "metadata": {},
   "source": [
    "Create a list, called \"Numbers\". Let it contain the numbers 10, 25, 40, and 50."
   ]
  },
  {
   "cell_type": "code",
   "execution_count": 116,
   "id": "5c08570b",
   "metadata": {},
   "outputs": [
    {
     "name": "stdout",
     "output_type": "stream",
     "text": [
      "[10, 25, 40, 50]\n"
     ]
    }
   ],
   "source": [
    "Numbers= [10,25,40,50]\n",
    "print(Numbers)"
   ]
  },
  {
   "cell_type": "markdown",
   "id": "a1d9992e",
   "metadata": {},
   "source": [
    "Print the second element from the list."
   ]
  },
  {
   "cell_type": "code",
   "execution_count": 117,
   "id": "2498878b",
   "metadata": {},
   "outputs": [
    {
     "name": "stdout",
     "output_type": "stream",
     "text": [
      "25\n"
     ]
    }
   ],
   "source": [
    "Numbers=[10,25,40,50]\n",
    "print(Numbers[1])"
   ]
  },
  {
   "cell_type": "markdown",
   "id": "d630909d",
   "metadata": {},
   "source": [
    "Print the 0th element."
   ]
  },
  {
   "cell_type": "code",
   "execution_count": 118,
   "id": "cd4bbe7a",
   "metadata": {},
   "outputs": [
    {
     "name": "stdout",
     "output_type": "stream",
     "text": [
      "10\n"
     ]
    }
   ],
   "source": [
    "Numbers=[10,25,40,50]\n",
    "print(Numbers[0])"
   ]
  },
  {
   "cell_type": "markdown",
   "id": "661f2ad1",
   "metadata": {},
   "source": [
    "Print the third-to-last element using a minus sign in the brackets."
   ]
  },
  {
   "cell_type": "code",
   "execution_count": 119,
   "id": "ac46e1ce",
   "metadata": {},
   "outputs": [
    {
     "name": "stdout",
     "output_type": "stream",
     "text": [
      "25\n"
     ]
    }
   ],
   "source": [
    "Numbers=[10,25,40,50]\n",
    "print(Numbers[-3])"
   ]
  },
  {
   "cell_type": "markdown",
   "id": "49ed3033",
   "metadata": {},
   "source": [
    "Substitute the number 10 with the number 15."
   ]
  },
  {
   "cell_type": "code",
   "execution_count": 120,
   "id": "06eec3f4",
   "metadata": {},
   "outputs": [
    {
     "name": "stdout",
     "output_type": "stream",
     "text": [
      "[15, 25, 40, 50]\n"
     ]
    }
   ],
   "source": [
    "Numbers= [10,25,40,50]\n",
    "Numbers[0]=15\n",
    "print(Numbers)"
   ]
  },
  {
   "cell_type": "markdown",
   "id": "ef3a1593",
   "metadata": {},
   "source": [
    "Delete the number 25 from the Numbers list."
   ]
  },
  {
   "cell_type": "code",
   "execution_count": 121,
   "id": "5b322887",
   "metadata": {},
   "outputs": [
    {
     "name": "stdout",
     "output_type": "stream",
     "text": [
      "[15, 40, 50]\n"
     ]
    }
   ],
   "source": [
    "Numbers = [15,25,40,50]\n",
    "Numbers.remove(25)\n",
    "print(Numbers)"
   ]
  },
  {
   "cell_type": "markdown",
   "id": "576308ac",
   "metadata": {},
   "source": [
    "______________"
   ]
  },
  {
   "cell_type": "markdown",
   "id": "1130a9ed",
   "metadata": {},
   "source": [
    "# Help Yourself with Methods"
   ]
  },
  {
   "cell_type": "markdown",
   "id": "8da962dc",
   "metadata": {},
   "source": [
    "Append the number 100 to the Numbers list."
   ]
  },
  {
   "cell_type": "code",
   "execution_count": 122,
   "id": "ae864ec3",
   "metadata": {},
   "outputs": [
    {
     "name": "stdout",
     "output_type": "stream",
     "text": [
      "[15, 40, 50, 100]\n"
     ]
    }
   ],
   "source": [
    "Numbers = [15, 40, 50]\n",
    "Numbers.append(100)\n",
    "print(Numbers)"
   ]
  },
  {
   "cell_type": "markdown",
   "id": "949d1343",
   "metadata": {},
   "source": [
    "With the help of the \"extend method\", add the numbers 115 an 140 to the list."
   ]
  },
  {
   "cell_type": "code",
   "execution_count": 125,
   "id": "a867c750",
   "metadata": {},
   "outputs": [
    {
     "name": "stdout",
     "output_type": "stream",
     "text": [
      "[15, 40, 50, 100, 115, 140]\n"
     ]
    }
   ],
   "source": [
    "Numbers= [15, 40, 50, 100]\n",
    "Numbers.extend([115, 140])\n",
    "print(Numbers)"
   ]
  },
  {
   "cell_type": "markdown",
   "id": "1d2ac030",
   "metadata": {},
   "source": [
    "Print a statement, saying \"The fourth element of the Numbers list is:\" and then designate the value of the fourth element. Use a trailing comma."
   ]
  },
  {
   "cell_type": "code",
   "execution_count": 126,
   "id": "12fdf5c4",
   "metadata": {},
   "outputs": [
    {
     "name": "stdout",
     "output_type": "stream",
     "text": [
      "The fourth element of the Numbers list is: 100\n"
     ]
    }
   ],
   "source": [
    "Numbers=[15, 40, 50, 100, 115, 140]\n",
    "print(\"The fourth element of the Numbers list is:\", Numbers[3])\n"
   ]
  },
  {
   "cell_type": "markdown",
   "id": "97d959cc",
   "metadata": {},
   "source": [
    "How many elements are there in the Numbers list?"
   ]
  },
  {
   "cell_type": "code",
   "execution_count": 127,
   "id": "d6c92290",
   "metadata": {},
   "outputs": [
    {
     "name": "stdout",
     "output_type": "stream",
     "text": [
      "6\n"
     ]
    }
   ],
   "source": [
    "Numbers=[15, 40, 50, 100, 115, 140]\n",
    "print(len(Numbers))"
   ]
  },
  {
   "cell_type": "markdown",
   "id": "bc22d106",
   "metadata": {},
   "source": [
    "________________"
   ]
  },
  {
   "cell_type": "markdown",
   "id": "83f2fe69",
   "metadata": {},
   "source": [
    "# List Slicing"
   ]
  },
  {
   "cell_type": "code",
   "execution_count": null,
   "id": "9813e2af",
   "metadata": {},
   "outputs": [],
   "source": [
    "Numbers = Numbers = [15, 40, 50, 100, 115, 140]"
   ]
  },
  {
   "cell_type": "markdown",
   "id": "142aa9d2",
   "metadata": {},
   "source": [
    "Using list slicing, obtain the numbers 100 and 115."
   ]
  },
  {
   "cell_type": "code",
   "execution_count": 128,
   "id": "3e3080a3",
   "metadata": {},
   "outputs": [
    {
     "name": "stdout",
     "output_type": "stream",
     "text": [
      "[100, 115]\n"
     ]
    }
   ],
   "source": [
    "Numbers= [15,40,50,100,115,140] \n",
    "subset=Numbers[3:5]\n",
    "print(subset)"
   ]
  },
  {
   "cell_type": "markdown",
   "id": "4df8aec3",
   "metadata": {},
   "source": [
    "Using slicing, extract the first four elements from the list."
   ]
  },
  {
   "cell_type": "markdown",
   "id": "c04e369c",
   "metadata": {},
   "source": [
    "Using slicing, extract all the elements from the list from the 3rd position onwards."
   ]
  },
  {
   "cell_type": "code",
   "execution_count": 130,
   "id": "704b9fde",
   "metadata": {},
   "outputs": [
    {
     "name": "stdout",
     "output_type": "stream",
     "text": [
      "[50, 100, 115, 140]\n"
     ]
    }
   ],
   "source": [
    "Numbers=[15, 40, 50, 100, 115, 140]\n",
    "subset=Numbers[2:]\n",
    "print(subset)"
   ]
  },
  {
   "cell_type": "markdown",
   "id": "a197f455",
   "metadata": {},
   "source": [
    "Using slicing, extract the last 4 elements from the list."
   ]
  },
  {
   "cell_type": "code",
   "execution_count": 131,
   "id": "050a3cf3",
   "metadata": {},
   "outputs": [
    {
     "name": "stdout",
     "output_type": "stream",
     "text": [
      "[50, 100, 115, 140]\n"
     ]
    }
   ],
   "source": [
    "Numbers= [15,40,50,100,115,140]\n",
    "subset=Numbers[-4:]\n",
    "print(subset)"
   ]
  },
  {
   "cell_type": "markdown",
   "id": "33095c5a",
   "metadata": {},
   "source": [
    "Which is the position of the value 15?"
   ]
  },
  {
   "cell_type": "code",
   "execution_count": 132,
   "id": "50e4ceb9",
   "metadata": {},
   "outputs": [
    {
     "name": "stdout",
     "output_type": "stream",
     "text": [
      "0\n"
     ]
    }
   ],
   "source": [
    "Numbers=[15, 40, 50, 100, 115, 140]\n",
    "position=Numbers.index(15)\n",
    "print(position)"
   ]
  },
  {
   "cell_type": "markdown",
   "id": "49586448",
   "metadata": {},
   "source": [
    "Create a list, called \"Two_Numbers\". Let its elements be the values 1 and 2. Then, create a new one, named \"All_Numbers\", that will containt both the \"Numbers\" and the \"Two_Numbers\" lists."
   ]
  },
  {
   "cell_type": "code",
   "execution_count": 133,
   "id": "2cc9e2ec",
   "metadata": {},
   "outputs": [
    {
     "name": "stdout",
     "output_type": "stream",
     "text": [
      "[15, 40, 50, 100, 115, 140, 1, 2]\n"
     ]
    }
   ],
   "source": [
    "Numbers= [15,40,50,100,115,140]\n",
    "Two_Numbers=[1,2]\n",
    "All_Numbers=Numbers + Two_Numbers\n",
    "print(All_Numbers)"
   ]
  },
  {
   "cell_type": "markdown",
   "id": "7d3427a9",
   "metadata": {},
   "source": [
    "Sort all the numbers in the \"Numbers\" list from the largest to the smallest."
   ]
  },
  {
   "cell_type": "code",
   "execution_count": 134,
   "id": "3a51ec2f",
   "metadata": {},
   "outputs": [
    {
     "name": "stdout",
     "output_type": "stream",
     "text": [
      "[140, 115, 100, 50, 40, 15, 2, 1]\n"
     ]
    }
   ],
   "source": [
    "Numbers=[15, 40, 50, 100, 115, 140,1,2]\n",
    "Numbers.sort(reverse=True)\n",
    "print(Numbers)\n"
   ]
  },
  {
   "cell_type": "markdown",
   "id": "42153599",
   "metadata": {},
   "source": [
    "__________________"
   ]
  },
  {
   "cell_type": "markdown",
   "id": "96f01a34",
   "metadata": {},
   "source": [
    "# Tuples"
   ]
  },
  {
   "cell_type": "markdown",
   "id": "b1161b29",
   "metadata": {},
   "source": [
    "Create a tuple, called \"Cars\", with elements \"BMW\", \"Dodge\", and \"Ford\"."
   ]
  },
  {
   "cell_type": "code",
   "execution_count": 135,
   "id": "dc5bf957",
   "metadata": {},
   "outputs": [
    {
     "name": "stdout",
     "output_type": "stream",
     "text": [
      "('BMW', 'Dodge', 'Ford')\n"
     ]
    }
   ],
   "source": [
    "Cars=(\"BMW\", \"Dodge\", \"Ford\")\n",
    "print(Cars)\n"
   ]
  },
  {
   "cell_type": "markdown",
   "id": "b870ad13",
   "metadata": {},
   "source": [
    "Access the second element of this tuple."
   ]
  },
  {
   "cell_type": "code",
   "execution_count": 136,
   "id": "b7ac8973",
   "metadata": {},
   "outputs": [
    {
     "name": "stdout",
     "output_type": "stream",
     "text": [
      "Dodge\n"
     ]
    }
   ],
   "source": [
    "Cars= (\"BMW\", \"Dodge\", \"Ford\")\n",
    "print(Cars[1])"
   ]
  },
  {
   "cell_type": "markdown",
   "id": "2c004020",
   "metadata": {},
   "source": [
    "Call a method that would allow you to extract the provided name and age separately. Then print the \"name\" and \"age\" values to see if you worked correctly."
   ]
  },
  {
   "cell_type": "code",
   "execution_count": null,
   "id": "a35495e3",
   "metadata": {},
   "outputs": [],
   "source": [
    "name, age = 'Peter,24'"
   ]
  },
  {
   "cell_type": "code",
   "execution_count": 137,
   "id": "882cfac5",
   "metadata": {},
   "outputs": [
    {
     "name": "stdout",
     "output_type": "stream",
     "text": [
      "Name: Peter\n",
      "Age: 25\n"
     ]
    }
   ],
   "source": [
    "kisi= (\"Peter\",25)\n",
    "name,age=kisi \n",
    "print(\"Name:\", name)\n",
    "print(\"Age:\", age)\n"
   ]
  },
  {
   "cell_type": "markdown",
   "id": "dfddf97e",
   "metadata": {},
   "source": [
    "Create a function that takes as arguments the two values of a rectangle and then returns the Area and the Perimeter of the rectangle. Call the function with arguments 2 and 10 to verify it worked correctly."
   ]
  },
  {
   "cell_type": "code",
   "execution_count": 138,
   "id": "a02df852",
   "metadata": {},
   "outputs": [
    {
     "name": "stdout",
     "output_type": "stream",
     "text": [
      "Area: 20\n",
      "Perimeter: 24\n"
     ]
    }
   ],
   "source": [
    "def rectangle_properties(length, width):\n",
    "    area = length * width\n",
    "    perimeter = 2 * (length + width)\n",
    "    return area, perimeter\n",
    "result = rectangle_properties(2, 10)\n",
    "\n",
    "print(\"Area:\", result[0])\n",
    "print(\"Perimeter:\", result[1])\n"
   ]
  },
  {
   "cell_type": "markdown",
   "id": "afe2a833",
   "metadata": {},
   "source": [
    "________________________"
   ]
  },
  {
   "cell_type": "markdown",
   "id": "2baabc39",
   "metadata": {},
   "source": [
    "# Dictionaries"
   ]
  },
  {
   "cell_type": "markdown",
   "id": "ecd14ab0",
   "metadata": {},
   "source": [
    "Suggested Answers follow (usually there are multiple ways to solve a problem in Python)."
   ]
  },
  {
   "cell_type": "markdown",
   "id": "beee27bd",
   "metadata": {},
   "source": [
    "This is the menu of a close-by restaurant:"
   ]
  },
  {
   "cell_type": "code",
   "execution_count": null,
   "id": "a5d37c57",
   "metadata": {},
   "outputs": [],
   "source": [
    "Menu = {'meal_1':'Spaghetti', 'meal_2':'Fries', 'meal_3':'Hamburger', 'meal_4':'Lasagna'}"
   ]
  },
  {
   "cell_type": "markdown",
   "id": "7eadbe8e",
   "metadata": {},
   "source": [
    "What is the second meal in the list?"
   ]
  },
  {
   "cell_type": "code",
   "execution_count": 139,
   "id": "fb43e10f",
   "metadata": {},
   "outputs": [
    {
     "name": "stdout",
     "output_type": "stream",
     "text": [
      "Fries\n"
     ]
    }
   ],
   "source": [
    "Menu = {'meal_1':'Spaghetti', 'meal_2':'Fries', 'meal_3':'Hamburger', 'meal_4':'Lasagna'}\n",
    "print(Menu['meal_2'])"
   ]
  },
  {
   "cell_type": "markdown",
   "id": "7cdd5d21",
   "metadata": {},
   "source": [
    "Add a new meal - \"Soup\"."
   ]
  },
  {
   "cell_type": "code",
   "execution_count": 140,
   "id": "b67f1f51",
   "metadata": {},
   "outputs": [
    {
     "name": "stdout",
     "output_type": "stream",
     "text": [
      "{'meal_1': 'Spaghetti', 'meal_2': 'Fries', 'meal_3': 'Hamburger', 'meal_4': 'Lasagna', 'meal_5': 'Soup'}\n"
     ]
    }
   ],
   "source": [
    "Menu = {'meal_1':'Spaghetti', 'meal_2':'Fries', 'meal_3':'Hamburger', 'meal_4':'Lasagna'}\n",
    "Menu.update({'meal_5': 'Soup'})\n",
    "print(Menu)"
   ]
  },
  {
   "cell_type": "markdown",
   "id": "132aeec0",
   "metadata": {},
   "source": [
    "Replace the Hamburger with a Cheeseburger."
   ]
  },
  {
   "cell_type": "code",
   "execution_count": 141,
   "id": "8d7161b6",
   "metadata": {
    "vscode": {
     "languageId": "javascript"
    }
   },
   "outputs": [
    {
     "name": "stdout",
     "output_type": "stream",
     "text": [
      "{'meal_1': 'Spaghetti', 'meal_2': 'Fries', 'meal_3': 'Cheeseburger', 'meal_4': 'Lasagna', 'meal_5': 'Soup'}\n"
     ]
    }
   ],
   "source": [
    "Menu = {'meal_1':'Spaghetti', 'meal_2':'Fries', 'meal_3':'Hamburger', 'meal_4':'Lasagna', 'meal_5': 'Soup'}\n",
    "Menu.update({'meal_3': 'Cheeseburger'})\n",
    "print(Menu)"
   ]
  },
  {
   "cell_type": "markdown",
   "id": "57b062c2",
   "metadata": {},
   "source": [
    "Attach the Desserts list in the form of a sixth meal."
   ]
  },
  {
   "cell_type": "code",
   "execution_count": null,
   "id": "6f12c584",
   "metadata": {},
   "outputs": [],
   "source": [
    "Dessert = ['Pancakes', 'Ice-cream', 'Tiramisu']"
   ]
  },
  {
   "cell_type": "code",
   "execution_count": 142,
   "id": "48ea1f40",
   "metadata": {},
   "outputs": [
    {
     "name": "stdout",
     "output_type": "stream",
     "text": [
      "{'meal_1': 'Spaghetti', 'meal_2': 'Fries', 'meal_3': 'Cheeseburger', 'meal_4': 'Lasagna', 'meal_5': 'Soup', 'meal_6': ['Pancakes', 'Ice-cream', 'Tiramisu']}\n"
     ]
    }
   ],
   "source": [
    "Menu = {'meal_1':'Spaghetti', \n",
    "        'meal_2':'Fries', \n",
    "        'meal_3':'Cheeseburger', \n",
    "        'meal_4':'Lasagna', \n",
    "        'meal_5':'Soup'}\n",
    "\n",
    "Desserts = ['Pancakes', 'Ice-cream', 'Tiramisu']\n",
    "Menu['meal_6']=Desserts\n",
    "print(Menu)"
   ]
  },
  {
   "cell_type": "markdown",
   "id": "3abaab8c",
   "metadata": {},
   "source": [
    "Create a new dictionary that contains the first five meals as keys and assign the following five values as prices (in dollars): 10, 5, 8, 12, 5. Start by Price_list = {}."
   ]
  },
  {
   "cell_type": "code",
   "execution_count": 143,
   "id": "f1afefe3",
   "metadata": {},
   "outputs": [
    {
     "name": "stdout",
     "output_type": "stream",
     "text": [
      "{'meal_1': 10, 'meal_2': 5, 'meal_3': 8, 'meal_4': 12, 'meal_5': 5}\n"
     ]
    }
   ],
   "source": [
    "\n",
    "Price_list = {}\n",
    "\n",
    "Price_list['meal_1'] = 10\n",
    "Price_list['meal_2'] = 5\n",
    "Price_list['meal_3'] = 8\n",
    "Price_list['meal_4'] = 12\n",
    "Price_list['meal_5'] = 5\n",
    "\n",
    "print(Price_list)\n"
   ]
  },
  {
   "cell_type": "markdown",
   "id": "52bd8192",
   "metadata": {},
   "source": [
    "Use the .get() method to check the price of the Spaghetti."
   ]
  },
  {
   "cell_type": "code",
   "execution_count": 144,
   "id": "8ed52289",
   "metadata": {},
   "outputs": [
    {
     "name": "stdout",
     "output_type": "stream",
     "text": [
      "The price of Spaghetti is: 10\n"
     ]
    }
   ],
   "source": [
    "Price_list = {'meal_1': 10, 'meal_2': 5, 'meal_3': 8, 'meal_4': 12, 'meal_5': 5}\n",
    "\n",
    "print(\"The price of Spaghetti is:\", Price_list.get('meal_1'))\n"
   ]
  },
  {
   "cell_type": "markdown",
   "id": "44a20ed1",
   "metadata": {},
   "source": [
    "_____________________"
   ]
  },
  {
   "cell_type": "markdown",
   "id": "847f4a02",
   "metadata": {},
   "source": [
    "# For Loops"
   ]
  },
  {
   "cell_type": "markdown",
   "id": "40e36e62",
   "metadata": {},
   "source": [
    "Create a For loop that prints every digit on a new line."
   ]
  },
  {
   "cell_type": "code",
   "execution_count": null,
   "id": "2e855ecb",
   "metadata": {},
   "outputs": [],
   "source": [
    "digits = [0,1,2,3,4,5,6,7,8,9]"
   ]
  },
  {
   "cell_type": "code",
   "execution_count": 146,
   "id": "27596402",
   "metadata": {},
   "outputs": [
    {
     "name": "stdout",
     "output_type": "stream",
     "text": [
      "0\n",
      "0\n",
      "1\n",
      "1\n",
      "2\n",
      "4\n",
      "3\n",
      "9\n",
      "4\n",
      "16\n",
      "5\n",
      "25\n",
      "6\n",
      "36\n",
      "7\n",
      "49\n",
      "8\n",
      "64\n",
      "9\n",
      "81\n"
     ]
    }
   ],
   "source": [
    "digits = [0,1,2,3,4,5,6,7,8,9]\n",
    "for d in digits:\n",
    "    print(d)\n",
    "    print(d**2)"
   ]
  },
  {
   "cell_type": "markdown",
   "id": "2b1e5457",
   "metadata": {},
   "source": [
    "Adjust the code, so the digits are all printed on the same line."
   ]
  },
  {
   "cell_type": "code",
   "execution_count": 148,
   "id": "230379ef",
   "metadata": {},
   "outputs": [
    {
     "name": "stdout",
     "output_type": "stream",
     "text": [
      "0 1 2 3 4 5 6 7 8 9 "
     ]
    }
   ],
   "source": [
    "digits=[0,1,2,3,4,5,6,7,8,9]\n",
    "for d in digits:\n",
    "    print(d, end=' ')"
   ]
  },
  {
   "cell_type": "markdown",
   "id": "567b4bd3",
   "metadata": {},
   "source": [
    "________________"
   ]
  },
  {
   "cell_type": "markdown",
   "id": "53a9acfa",
   "metadata": {},
   "source": [
    "# While Loops and Incrementing"
   ]
  },
  {
   "cell_type": "markdown",
   "id": "9c84b488",
   "metadata": {},
   "source": [
    "Suggested Answers follow (usually there are multiple ways to solve a problem in Python)."
   ]
  },
  {
   "cell_type": "markdown",
   "id": "a4d87562",
   "metadata": {},
   "source": [
    "Create a while loop that will print all odd numbers from 0 to 30 on the same row."
   ]
  },
  {
   "cell_type": "markdown",
   "id": "163bdf92",
   "metadata": {},
   "source": [
    "Hint: There are two ways in which you can create the odd values!"
   ]
  },
  {
   "cell_type": "code",
   "execution_count": 149,
   "id": "3aaa9c2a",
   "metadata": {},
   "outputs": [
    {
     "name": "stdout",
     "output_type": "stream",
     "text": [
      "1 3 5 7 9 11 13 15 17 19 21 23 25 27 29 "
     ]
    }
   ],
   "source": [
    "sayi=1\n",
    "while sayi<=30:\n",
    "    print(sayi, end=' ')\n",
    "    sayi+=2"
   ]
  },
  {
   "cell_type": "code",
   "execution_count": 150,
   "id": "d4cb7a86",
   "metadata": {},
   "outputs": [
    {
     "name": "stdout",
     "output_type": "stream",
     "text": [
      "1 3 5 7 9 11 13 15 17 19 21 23 25 27 29 "
     ]
    }
   ],
   "source": [
    "sayi= 0\n",
    "\n",
    "while sayi <= 30:\n",
    "    if sayi % 2 != 0:  # check if the number is odd\n",
    "        print(sayi, end=' ')\n",
    "    sayi += 1  # go to the next number\n"
   ]
  },
  {
   "cell_type": "markdown",
   "id": "6db416b1",
   "metadata": {},
   "source": [
    "____________"
   ]
  },
  {
   "cell_type": "markdown",
   "id": "157a31ec",
   "metadata": {},
   "source": [
    "# Create Lists with the range() Function"
   ]
  },
  {
   "cell_type": "markdown",
   "id": "7f563cf5",
   "metadata": {},
   "source": [
    "Use the range() function to create a list with all numbers from 1 to 10."
   ]
  },
  {
   "cell_type": "code",
   "execution_count": 151,
   "id": "d9daf4ee",
   "metadata": {},
   "outputs": [
    {
     "name": "stdout",
     "output_type": "stream",
     "text": [
      "[1, 2, 3, 4, 5, 6, 7, 8, 9, 10]\n"
     ]
    }
   ],
   "source": [
    "sayilar=list(range(1,11))\n",
    "print(sayilar)"
   ]
  },
  {
   "cell_type": "markdown",
   "id": "ecbe7310",
   "metadata": {},
   "source": [
    "Use the range() function to create a list with all numbers from 0 to 19."
   ]
  },
  {
   "cell_type": "code",
   "execution_count": 152,
   "id": "f023f2a4",
   "metadata": {},
   "outputs": [
    {
     "name": "stdout",
     "output_type": "stream",
     "text": [
      "[0, 1, 2, 3, 4, 5, 6, 7, 8, 9, 10, 11, 12, 13, 14, 15, 16, 17, 18, 19]\n"
     ]
    }
   ],
   "source": [
    "sayilar=list(range(0,20))\n",
    "print(sayilar)"
   ]
  },
  {
   "cell_type": "markdown",
   "id": "d1085cad",
   "metadata": {},
   "source": [
    "Use the range function to create a list with all even numbers from 0 to 30 included."
   ]
  },
  {
   "cell_type": "code",
   "execution_count": 153,
   "id": "ad6f786b",
   "metadata": {},
   "outputs": [
    {
     "name": "stdout",
     "output_type": "stream",
     "text": [
      "[0, 2, 4, 6, 8, 10, 12, 14, 16, 18, 20, 22, 24, 26, 28, 30]\n"
     ]
    }
   ],
   "source": [
    "ciftsayilar = list(range(0, 31))    # 0'dan 30'a kadar tüm sayılar\n",
    "cift_sayilar = [n for n in ciftsayilar if n % 2 == 0]  # sadece çiftleri al\n",
    "print(cift_sayilar)\n"
   ]
  },
  {
   "cell_type": "markdown",
   "id": "c3cfeb78",
   "metadata": {},
   "source": [
    "_______________________"
   ]
  },
  {
   "cell_type": "markdown",
   "id": "7b5d343d",
   "metadata": {},
   "source": [
    "# Use Conditional Statements and Loops Together"
   ]
  },
  {
   "cell_type": "markdown",
   "id": "8b9e956d",
   "metadata": {},
   "source": [
    "Create a For loop that will print all the variables from a given list multiplied by 2. Let the list contain all numbers from 1 to 10. Create it with the help of the range() function."
   ]
  },
  {
   "cell_type": "code",
   "execution_count": 155,
   "id": "02a244be",
   "metadata": {},
   "outputs": [
    {
     "name": "stdout",
     "output_type": "stream",
     "text": [
      "2 4 6 8 10 12 14 16 18 20 "
     ]
    }
   ],
   "source": [
    "sayilar= list(range(1,11))\n",
    "for n in sayilar:\n",
    "    print(n*2, end=' ')"
   ]
  },
  {
   "cell_type": "markdown",
   "id": "12421f02",
   "metadata": {},
   "source": [
    "Create a little program that runs a loop over all values from 1 to 30. Let it print all Odd numbers, and in the place of the even numbers, it should print \"Even\". Help yourself with the range() function to solve this exercise."
   ]
  },
  {
   "cell_type": "code",
   "execution_count": 158,
   "id": "41c75cfe",
   "metadata": {},
   "outputs": [
    {
     "name": "stdout",
     "output_type": "stream",
     "text": [
      "1\n",
      "tek\n",
      "3\n",
      "tek\n",
      "5\n",
      "tek\n",
      "7\n",
      "tek\n",
      "9\n",
      "tek\n",
      "11\n",
      "tek\n",
      "13\n",
      "tek\n",
      "15\n",
      "tek\n",
      "17\n",
      "tek\n",
      "19\n",
      "tek\n",
      "21\n",
      "tek\n",
      "23\n",
      "tek\n",
      "25\n",
      "tek\n",
      "27\n",
      "tek\n",
      "29\n",
      "tek\n"
     ]
    }
   ],
   "source": [
    "for d in range(1,31):\n",
    "    if d % 2 != 0:\n",
    "        print(d)\n",
    "    else:\n",
    "        print(\"tek\")"
   ]
  },
  {
   "cell_type": "markdown",
   "id": "06f03afb",
   "metadata": {},
   "source": [
    "You have the following list of numbers. Iterate over this list, printing out each list value multiplied by 10. Find two solutions of this problem."
   ]
  },
  {
   "cell_type": "code",
   "execution_count": null,
   "id": "d85b4cd3",
   "metadata": {},
   "outputs": [],
   "source": [
    "n = [1,2,3,4,5,6]"
   ]
  },
  {
   "cell_type": "code",
   "execution_count": 159,
   "id": "8a3bbbc1",
   "metadata": {},
   "outputs": [
    {
     "name": "stdout",
     "output_type": "stream",
     "text": [
      "10\n",
      "20\n",
      "30\n",
      "40\n",
      "50\n",
      "60\n"
     ]
    }
   ],
   "source": [
    "n= [1,2,3,4,5,6]\n",
    "for i in n:\n",
    "    print(i*10)"
   ]
  },
  {
   "cell_type": "code",
   "execution_count": 160,
   "id": "fca5f13b",
   "metadata": {},
   "outputs": [
    {
     "name": "stdout",
     "output_type": "stream",
     "text": [
      "[10, 20, 30, 40, 50, 60]\n"
     ]
    }
   ],
   "source": [
    "n=[1,2,3,4,5,6]\n",
    "result=[i*10 for i in n]\n",
    "print(result)"
   ]
  },
  {
   "cell_type": "markdown",
   "id": "d896deea",
   "metadata": {},
   "source": [
    "_________________"
   ]
  },
  {
   "cell_type": "markdown",
   "id": "dbc79fd2",
   "metadata": {},
   "source": [
    "# All in - Conditional Statements, Functions, and Loops"
   ]
  },
  {
   "cell_type": "markdown",
   "id": "e9fa9cba",
   "metadata": {},
   "source": [
    "You are provided with the 'nums' list. Complete the code in the cell that follows. Use a while loop to count the number of values lower than 20. You might prefer using the x[item] structure for indicating the value of an element from the list."
   ]
  },
  {
   "cell_type": "code",
   "execution_count": null,
   "id": "63c5d147",
   "metadata": {},
   "outputs": [],
   "source": [
    "nums = [1,12,24,31,51,70,100]"
   ]
  },
  {
   "cell_type": "code",
   "execution_count": 161,
   "id": "10ade222",
   "metadata": {},
   "outputs": [
    {
     "name": "stdout",
     "output_type": "stream",
     "text": [
      "2\n"
     ]
    }
   ],
   "source": [
    "nums = [1, 12, 24, 31, 51, 70, 100]\n",
    "count = 0\n",
    "index = 0\n",
    "\n",
    "while index < len(nums):\n",
    "    if nums[index] < 20:\n",
    "        count += 1\n",
    "    index += 1\n",
    "\n",
    "print(count)"
   ]
  },
  {
   "cell_type": "markdown",
   "id": "3bc5edde",
   "metadata": {},
   "source": [
    "____________"
   ]
  },
  {
   "cell_type": "markdown",
   "id": "e657b554",
   "metadata": {},
   "source": [
    "# Iterating over Dictionaries"
   ]
  },
  {
   "cell_type": "markdown",
   "id": "8431fc3c",
   "metadata": {},
   "source": [
    "In this exercise you will use the same dictionaries as the ones we used in the lesson - \"prices\" and \"quantity\". This time, don't just calculate all the money Jan spent. Calculate how much she spent on products with a price of 5 dollars or more."
   ]
  },
  {
   "cell_type": "code",
   "execution_count": null,
   "id": "a1cddaa0",
   "metadata": {},
   "outputs": [],
   "source": [
    "prices = {\n",
    "    \"box_of_spaghetti\" : 4,\n",
    "    \"lasagna\"  : 5,\n",
    "    \"hamburger\" : 2\n",
    "   }\n",
    "quantity = {\n",
    "    \"box_of_spaghetti\" : 6,\n",
    "    \"lasagna\"  : 10,\n",
    "    \"hamburger\" : 0\n",
    "    }\n",
    "\n",
    "money_spent = 0"
   ]
  },
  {
   "cell_type": "markdown",
   "id": "6ecd99eb",
   "metadata": {},
   "source": [
    "And how much did Jan spent on products that cost less than 5 dollars?"
   ]
  },
  {
   "cell_type": "code",
   "execution_count": null,
   "id": "c9280a30",
   "metadata": {},
   "outputs": [],
   "source": [
    "prices = {\n",
    "    \"box_of_spaghetti\" : 4,\n",
    "    \"lasagna\"  : 5,\n",
    "    \"hamburger\" : 2\n",
    "   }\n",
    "quantity = {\n",
    "    \"box_of_spaghetti\" : 6,\n",
    "    \"lasagna\"  : 10,\n",
    "    \"hamburger\" : 0\n",
    "    }\n",
    "\n",
    "money_spent = 0"
   ]
  },
  {
   "cell_type": "code",
   "execution_count": 162,
   "id": "f68a164c",
   "metadata": {},
   "outputs": [
    {
     "name": "stdout",
     "output_type": "stream",
     "text": [
      "Jan spent $50 on products with a price of $5 or more.\n"
     ]
    }
   ],
   "source": [
    "prices = {\n",
    "    \"box_of_spaghetti\" : 4,\n",
    "    \"lasagna\"  : 5,\n",
    "    \"hamburger\" : 2\n",
    "   }\n",
    "quantity = {\n",
    "    \"box_of_spaghetti\" : 6,\n",
    "    \"lasagna\"  : 10,\n",
    "    \"hamburger\" : 0\n",
    "    }\n",
    "\n",
    "money_spent = 0\n",
    "\n",
    "for item in prices:\n",
    "    if prices[item] >= 5:\n",
    "        money_spent += prices[item] * quantity[item]\n",
    "\n",
    "print(f\"Jan spent ${money_spent} on products with a price of $5 or more.\")"
   ]
  }
 ],
 "metadata": {
  "kernelspec": {
   "display_name": "Python 3",
   "language": "python",
   "name": "python3"
  },
  "language_info": {
   "codemirror_mode": {
    "name": "ipython",
    "version": 3
   },
   "file_extension": ".py",
   "mimetype": "text/x-python",
   "name": "python",
   "nbconvert_exporter": "python",
   "pygments_lexer": "ipython3",
   "version": "3.11.13"
  }
 },
 "nbformat": 4,
 "nbformat_minor": 5
}
